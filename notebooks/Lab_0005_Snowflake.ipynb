{
  "cells": [
    {
      "cell_type": "markdown",
      "metadata": {},
      "source": [
        "# Lab 0005: Snowflake + Snowpark Integration\n",
        "\n",
        "This notebook provides an interactive tutorial for working with Snowflake using Snowpark Python.\n",
        "\n",
        "## Learning Objectives\n",
        "\n",
        "By the end of this notebook, you will understand:\n",
        "- How to connect to Snowflake using key-pair authentication\n",
        "- How to work with Snowpark DataFrames\n",
        "- How to build ETL pipelines and data loading workflows\n",
        "- How to use programmatic query builders\n",
        "- How to prepare for AI agent integration\n",
        "\n",
        "## Prerequisites\n",
        "\n",
        "1. Snowflake account with appropriate permissions\n",
        "2. RSA key pair for authentication\n",
        "3. `.env` file configured with your Snowflake credentials\n",
        "4. Run `examples/setup_snowflake_user.sql` in Snowflake first\n"
      ]
    }
  ],
  "metadata": {
    "language_info": {
      "name": "python"
    }
  },
  "nbformat": 4,
  "nbformat_minor": 2
}
