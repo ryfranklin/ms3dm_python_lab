{
 "cells": [
  {
   "cell_type": "markdown",
   "metadata": {},
   "source": [
    "# Lab 0001: Event Bus - Interactive Exploration\n",
    "\n",
    "Welcome to the interactive notebook for exploring the Event Bus pattern!\n",
    "\n",
    "## 🎯 What You'll Learn\n",
    "\n",
    "- How publish/subscribe patterns work\n",
    "- The difference between sync and async event handling\n",
    "- Practical applications of event-driven architecture\n",
    "\n",
    "## 📚 Setup\n",
    "\n",
    "First, let's import the event bus implementations:\n"
   ]
  },
  {
   "cell_type": "code",
   "execution_count": null,
   "metadata": {},
   "outputs": [],
   "source": [
    "import sys\n",
    "from pathlib import Path\n",
    "\n",
    "# Add the project root to the path\n",
    "project_root = Path.cwd().parent\n",
    "sys.path.insert(0, str(project_root))\n",
    "\n",
    "import asyncio\n",
    "\n",
    "from lessons.lab_0001_event_bus.event_bus import AsyncEventBus, EventBus\n",
    "\n",
    "print(\"✅ Imports successful!\")"
   ]
  },
  {
   "cell_type": "markdown",
   "metadata": {},
   "source": [
    "## Part 1: Synchronous Event Bus Basics\n",
    "\n",
    "Let's start with the synchronous event bus:\n"
   ]
  },
  {
   "cell_type": "code",
   "execution_count": null,
   "metadata": {},
   "outputs": [],
   "source": [
    "# Create a new event bus\n",
    "bus = EventBus()\n",
    "\n",
    "\n",
    "# Define a simple handler\n",
    "def greet_handler(event, payload):\n",
    "    name = payload.get(\"name\", \"stranger\")\n",
    "    print(f\"👋 Hello, {name}!\")\n",
    "\n",
    "\n",
    "# Subscribe the handler\n",
    "subscription_id = bus.subscribe(\"user.greeted\", greet_handler)\n",
    "\n",
    "print(f\"📝 Subscription ID: {subscription_id}\")\n",
    "print(f\"📊 Total subscribers: {bus.count_subscribers()}\")"
   ]
  },
  {
   "cell_type": "code",
   "execution_count": null,
   "metadata": {},
   "outputs": [],
   "source": [
    "# Publish an event\n",
    "bus.publish(\"user.greeted\", {\"name\": \"Alice\"})\n",
    "bus.publish(\"user.greeted\", {\"name\": \"Bob\"})"
   ]
  },
  {
   "cell_type": "markdown",
   "metadata": {},
   "source": [
    "### Exercise: Multiple Handlers\n",
    "\n",
    "Try adding multiple handlers to the same event:\n"
   ]
  },
  {
   "cell_type": "code",
   "execution_count": null,
   "metadata": {},
   "outputs": [],
   "source": [
    "# Add more handlers\n",
    "def logger(event, payload):\n",
    "    print(f\"[LOG] Event '{event}' with data: {payload}\")\n",
    "\n",
    "\n",
    "def counter(event, payload):\n",
    "    if not hasattr(counter, \"count\"):\n",
    "        counter.count = 0\n",
    "    counter.count += 1\n",
    "    print(f\"[COUNTER] This is event #{counter.count}\")\n",
    "\n",
    "\n",
    "# Subscribe them\n",
    "bus.subscribe(\"user.greeted\", logger)\n",
    "bus.subscribe(\"user.greeted\", counter)\n",
    "\n",
    "# Now publish again\n",
    "print(\"\\n🚀 Publishing with multiple handlers:\\n\")\n",
    "bus.publish(\"user.greeted\", {\"name\": \"Charlie\"})"
   ]
  },
  {
   "cell_type": "markdown",
   "metadata": {},
   "source": [
    "## Part 2: Asynchronous Event Bus\n",
    "\n",
    "Now let's explore the async version with concurrent execution:\n"
   ]
  },
  {
   "cell_type": "code",
   "execution_count": null,
   "metadata": {},
   "outputs": [],
   "source": [
    "import time\n",
    "\n",
    "async_bus = AsyncEventBus()\n",
    "\n",
    "\n",
    "# Async handlers with delays\n",
    "async def slow_handler(event, payload):\n",
    "    print(\"🐌 Slow handler started...\")\n",
    "    await asyncio.sleep(2)\n",
    "    print(\"🐌 Slow handler finished!\")\n",
    "\n",
    "\n",
    "async def fast_handler(event, payload):\n",
    "    print(\"🚀 Fast handler started...\")\n",
    "    await asyncio.sleep(0.5)\n",
    "    print(\"🚀 Fast handler finished!\")\n",
    "\n",
    "\n",
    "async def instant_handler(event, payload):\n",
    "    print(\"⚡ Instant handler executed!\")\n",
    "\n",
    "\n",
    "# Subscribe all handlers\n",
    "async_bus.subscribe(\"task.started\", slow_handler)\n",
    "async_bus.subscribe(\"task.started\", fast_handler)\n",
    "async_bus.subscribe(\"task.started\", instant_handler)\n",
    "\n",
    "print(\"⏱️  Watch how they run concurrently...\")"
   ]
  },
  {
   "cell_type": "code",
   "execution_count": null,
   "metadata": {},
   "outputs": [],
   "source": [
    "# Run the async publish\n",
    "start = time.time()\n",
    "await async_bus.publish(\"task.started\", {})\n",
    "elapsed = time.time() - start\n",
    "\n",
    "print(f\"\\n✅ All handlers completed in {elapsed:.2f} seconds\")\n",
    "print(\"💡 If they ran sequentially, it would take ~2.5 seconds!\")"
   ]
  },
  {
   "cell_type": "markdown",
   "metadata": {},
   "source": [
    "## 🎓 Exercises\n",
    "\n",
    "Try these challenges:\n",
    "\n",
    "1. **Chat Room**: Create a simple chat room where users can send/receive messages\n",
    "2. **Game Events**: Design events like `player.moved`, `enemy.spawned`, `score.updated`\n",
    "3. **Metrics Collector**: Track how many times each event is published\n",
    "\n",
    "## 🎉 Conclusion\n",
    "\n",
    "You've learned how to use event buses for decoupled, event-driven architecture!\n",
    "\n",
    "**Next Steps**: Check out the tests and README for more details.\n"
   ]
  }
 ],
 "metadata": {
  "language_info": {
   "name": "python"
  }
 },
 "nbformat": 4,
 "nbformat_minor": 2
}
